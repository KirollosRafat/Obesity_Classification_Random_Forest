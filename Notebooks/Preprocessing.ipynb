{
 "cells": [
  {
   "cell_type": "code",
   "execution_count": 1,
   "id": "dfe49735",
   "metadata": {},
   "outputs": [],
   "source": [
    "import numpy as np\n",
    "import pandas as pd \n",
    "from sklearn.preprocessing import LabelEncoder\n",
    "import matplotlib.pyplot as plt\n",
    "import joblib"
   ]
  },
  {
   "cell_type": "code",
   "execution_count": 2,
   "id": "4f2d043e",
   "metadata": {},
   "outputs": [
    {
     "data": {
      "text/plain": [
       "array(['Normal Weight', 'Overweight', 'Underweight', 'Obese'],\n",
       "      dtype=object)"
      ]
     },
     "execution_count": 2,
     "metadata": {},
     "output_type": "execute_result"
    }
   ],
   "source": [
    "data = pd.read_csv(\"Obesity.csv\")\n",
    "classes = data['Label'].unique()\n",
    "classes"
   ]
  },
  {
   "cell_type": "code",
   "execution_count": 3,
   "id": "c332e65b",
   "metadata": {},
   "outputs": [
    {
     "name": "stdout",
     "output_type": "stream",
     "text": [
      "   Age  Gender  Height  Weight   BMI          Label\n",
      "0   25    Male     175      80  25.3  Normal Weight\n",
      "1   30  Female     160      60  22.5  Normal Weight\n",
      "2   35    Male     180      90  27.3     Overweight\n",
      "3   40  Female     150      50  20.0    Underweight\n",
      "4   45    Male     190     100  31.2          Obese\n",
      "5   50  Female     140      40  16.7    Underweight\n",
      "6   55    Male     200     110  34.2          Obese\n",
      "----------------------------------------------------------------------------------------------------\n",
      "              Age      Height      Weight         BMI\n",
      "count  108.000000  108.000000  108.000000  108.000000\n",
      "mean    46.555556  166.574074   59.490741   20.549074\n",
      "std     24.720620   27.873615   28.856233    7.583818\n",
      "min     11.000000  120.000000   10.000000    3.900000\n",
      "25%     27.000000  140.000000   35.000000   16.700000\n",
      "50%     42.500000  175.000000   55.000000   21.200000\n",
      "75%     59.250000  190.000000   85.000000   26.100000\n",
      "max    112.000000  210.000000  120.000000   37.200000\n"
     ]
    }
   ],
   "source": [
    "# ID column is not relevant\n",
    "Data = data.drop('ID',axis=1)\n",
    "\n",
    "# Show the first seven rows\n",
    "print(Data.head(7))\n",
    "print(\"-\"*100)\n",
    "\n",
    "# Show some statistics\n",
    "print(Data.describe())"
   ]
  },
  {
   "cell_type": "code",
   "execution_count": 4,
   "id": "944b38da",
   "metadata": {},
   "outputs": [
    {
     "data": {
      "text/plain": [
       "Age       0\n",
       "Gender    0\n",
       "Height    0\n",
       "Weight    0\n",
       "BMI       0\n",
       "Label     0\n",
       "dtype: int64"
      ]
     },
     "execution_count": 4,
     "metadata": {},
     "output_type": "execute_result"
    }
   ],
   "source": [
    "# Check if there are any missing values\n",
    "Data.isnull().sum() "
   ]
  },
  {
   "cell_type": "code",
   "execution_count": 5,
   "id": "99ea0492",
   "metadata": {},
   "outputs": [
    {
     "data": {
      "text/html": [
       "<div>\n",
       "<style scoped>\n",
       "    .dataframe tbody tr th:only-of-type {\n",
       "        vertical-align: middle;\n",
       "    }\n",
       "\n",
       "    .dataframe tbody tr th {\n",
       "        vertical-align: top;\n",
       "    }\n",
       "\n",
       "    .dataframe thead th {\n",
       "        text-align: right;\n",
       "    }\n",
       "</style>\n",
       "<table border=\"1\" class=\"dataframe\">\n",
       "  <thead>\n",
       "    <tr style=\"text-align: right;\">\n",
       "      <th></th>\n",
       "      <th>Age</th>\n",
       "      <th>Gender</th>\n",
       "      <th>Height</th>\n",
       "      <th>Weight</th>\n",
       "      <th>BMI</th>\n",
       "      <th>Label</th>\n",
       "    </tr>\n",
       "  </thead>\n",
       "  <tbody>\n",
       "    <tr>\n",
       "      <th>0</th>\n",
       "      <td>25</td>\n",
       "      <td>1</td>\n",
       "      <td>175</td>\n",
       "      <td>80</td>\n",
       "      <td>25.3</td>\n",
       "      <td>0</td>\n",
       "    </tr>\n",
       "    <tr>\n",
       "      <th>1</th>\n",
       "      <td>30</td>\n",
       "      <td>0</td>\n",
       "      <td>160</td>\n",
       "      <td>60</td>\n",
       "      <td>22.5</td>\n",
       "      <td>0</td>\n",
       "    </tr>\n",
       "    <tr>\n",
       "      <th>2</th>\n",
       "      <td>35</td>\n",
       "      <td>1</td>\n",
       "      <td>180</td>\n",
       "      <td>90</td>\n",
       "      <td>27.3</td>\n",
       "      <td>2</td>\n",
       "    </tr>\n",
       "  </tbody>\n",
       "</table>\n",
       "</div>"
      ],
      "text/plain": [
       "   Age  Gender  Height  Weight   BMI  Label\n",
       "0   25       1     175      80  25.3      0\n",
       "1   30       0     160      60  22.5      0\n",
       "2   35       1     180      90  27.3      2"
      ]
     },
     "execution_count": 5,
     "metadata": {},
     "output_type": "execute_result"
    }
   ],
   "source": [
    "# LABEL ENCODING\n",
    "encoder = LabelEncoder()\n",
    "Data['Gender'] = np.where(Data['Gender'] == 'Male',1,0)\n",
    "Data['Label'] = encoder.fit_transform(Data['Label'])\n",
    "Data.head(3)"
   ]
  },
  {
   "cell_type": "code",
   "execution_count": 6,
   "id": "206ebf9d",
   "metadata": {},
   "outputs": [
    {
     "data": {
      "text/plain": [
       "<Axes: >"
      ]
     },
     "execution_count": 6,
     "metadata": {},
     "output_type": "execute_result"
    },
    {
     "data": {
      "image/png": "[encoded data removed]",
      "text/plain": [
       "<Figure size 600x600 with 1 Axes>"
      ]
     },
     "metadata": {},
     "output_type": "display_data"
    }
   ],
   "source": [
    "# Correlation \n",
    "corr_values = Data.corr()['Label'].drop('Label')\n",
    "corr_values.plot(kind='barh', figsize=(6, 6))"
   ]
  },
  {
   "cell_type": "code",
   "execution_count": 7,
   "id": "93357fff",
   "metadata": {},
   "outputs": [],
   "source": [
    "# SAVE FINAL DATA\n",
    "Data.to_csv(\"obesity_modified.csv\",index=False)"
   ]
  },
  {
   "cell_type": "code",
   "execution_count": 9,
   "id": "b57862ba",
   "metadata": {},
   "outputs": [
    {
     "name": "stdout",
     "output_type": "stream",
     "text": [
      "Classes: ['Normal Weight' 'Obese' 'Overweight' 'Underweight']\n"
     ]
    }
   ],
   "source": [
    "print(\"Classes:\", encoder.classes_) \n"
   ]
  },
  {
   "cell_type": "markdown",
   "id": "ec3fb014",
   "metadata": {},
   "source": [
    "This means:\n",
    "- Normal Weight --> 0\n",
    "- Obese ---> 1\n",
    "- Overweight ---> 2\n",
    "- Underweight ---> 3"
   ]
  }
 ],
 "metadata": {
  "kernelspec": {
   "display_name": "Python 3",
   "language": "python",
   "name": "python3"
  },
  "language_info": {
   "codemirror_mode": {
    "name": "ipython",
    "version": 3
   },
   "file_extension": ".py",
   "mimetype": "text/x-python",
   "name": "python",
   "nbconvert_exporter": "python",
   "pygments_lexer": "ipython3",
   "version": "3.11.9"
  }
 },
 "nbformat": 4,
 "nbformat_minor": 5
}
